{
 "cells": [
  {
   "cell_type": "code",
   "execution_count": 45,
   "metadata": {},
   "outputs": [
    {
     "data": {
      "text/html": [
       "<div>\n",
       "<style scoped>\n",
       "    .dataframe tbody tr th:only-of-type {\n",
       "        vertical-align: middle;\n",
       "    }\n",
       "\n",
       "    .dataframe tbody tr th {\n",
       "        vertical-align: top;\n",
       "    }\n",
       "\n",
       "    .dataframe thead th {\n",
       "        text-align: right;\n",
       "    }\n",
       "</style>\n",
       "<table border=\"1\" class=\"dataframe\">\n",
       "  <thead>\n",
       "    <tr style=\"text-align: right;\">\n",
       "      <th></th>\n",
       "      <th>電影名稱(中)</th>\n",
       "      <th>電影名稱(英)</th>\n",
       "      <th>類型</th>\n",
       "      <th>上映日期</th>\n",
       "      <th>片長</th>\n",
       "      <th>發行公司</th>\n",
       "      <th>導演</th>\n",
       "      <th>演員</th>\n",
       "      <th>官方網站</th>\n",
       "      <th>劇情介紹</th>\n",
       "    </tr>\n",
       "  </thead>\n",
       "  <tbody>\n",
       "    <tr>\n",
       "      <th>0</th>\n",
       "      <td>波希米亞狂想曲</td>\n",
       "      <td>Bohemian Rhapsody</td>\n",
       "      <td>歷史/傳記</td>\n",
       "      <td>上映日期：2018-11-02</td>\n",
       "      <td>片　　長：02時15分</td>\n",
       "      <td>發行公司：福斯影片</td>\n",
       "      <td>戴克斯特佛萊契(Dexter Fletcher)</td>\n",
       "      <td>雷米馬利克(Rami Malek)\\n                           ...</td>\n",
       "      <td>https://info.yahoo.com/legal/tw/yahoo/utos/zh-...</td>\n",
       "      <td>★搖滾不死！皇后合唱團傳記電影首登大銀幕 神曲百分百催淚再詮釋★《波希米亞狂想曲》傳奇主唱佛...</td>\n",
       "    </tr>\n",
       "  </tbody>\n",
       "</table>\n",
       "</div>"
      ],
      "text/plain": [
       "   電影名稱(中)            電影名稱(英)     類型             上映日期           片長       發行公司  \\\n",
       "0  波希米亞狂想曲  Bohemian Rhapsody  歷史/傳記  上映日期：2018-11-02  片　　長：02時15分  發行公司：福斯影片   \n",
       "\n",
       "                         導演  \\\n",
       "0  戴克斯特佛萊契(Dexter Fletcher)   \n",
       "\n",
       "                                                  演員  \\\n",
       "0  雷米馬利克(Rami Malek)\\n                           ...   \n",
       "\n",
       "                                                官方網站  \\\n",
       "0  https://info.yahoo.com/legal/tw/yahoo/utos/zh-...   \n",
       "\n",
       "                                                劇情介紹  \n",
       "0  ★搖滾不死！皇后合唱團傳記電影首登大銀幕 神曲百分百催淚再詮釋★《波希米亞狂想曲》傳奇主唱佛...  "
      ]
     },
     "execution_count": 45,
     "metadata": {},
     "output_type": "execute_result"
    }
   ],
   "source": [
    "'''\n",
    "抓取 yahoo!yahoo! yahoo! 電影 的某部, 例如 :\n",
    "○ https://tw.movies.yahoo.com/movieinfo_main.html/id=5644 https://tw.movies.yahoo.com/movieinfo_main.html/id=5644 https://tw.movies.yahoo.com/movieinfo_main.html/id=5644 https://tw.movies.yahoo.com/movieinfo_main.html/id=5644 https://tw.movies.yahoo.com/movieinfo_main.html/id=5644 https://tw.movies.yahoo.com/movieinfo_main.html/id=5644 https://tw.movies.yahoo.com/movieinfo_main.html/id=5644 https://tw.movies.yahoo.com/movieinfo_main.html/id=5644 https://tw.movies.yahoo.com/movieinfo_main.html/id=5644 https://tw.movies.yahoo.com/movieinfo_main.html/id=5644 https://tw.movies.yahoo.com/movieinfo_main.html/id=5644 https://tw.movies.yahoo.com/movieinfo_main.html/id=5644 https://tw.movies.yahoo.com/movieinfo_main.html/id=5644 https://tw.movies.yahoo.com/movieinfo_main.html/id=5644 https://tw.movies.yahoo.com/movieinfo_main.html/id=5644 https://tw.movies.yahoo.com/movieinfo_main.html/id=5644 https://tw.movies.yahoo.com/movieinfo_main.html/id=5644 https://tw.movies.yahoo.com/movieinfo_main.html/id=5644 https://tw.movies.yahoo.com/movieinfo_main.html/id=5644 https://tw.movies.yahoo.com/movieinfo_main.html/id=5644 https://tw.movies.yahoo.com/movieinfo_main.html/id=5644 https://tw.movies.yahoo.com/movieinfo_main.html/id=5644 https://tw.movies.yahoo.com/movieinfo_main.html/id=5644 https://tw.movies.yahoo.com/movieinfo_main.html/id=5644 https://tw.movies.yahoo.com/movieinfo_main.html/id=5644 https://tw.movies.yahoo.com/movieinfo_main.html/id=5644 https://tw.movies.yahoo.com/movieinfo_main.html/id=5644 https://tw.movies.yahoo.com/movieinfo_main.html/id=5644 https://tw.movies.yahoo.com/movieinfo_main.html/id=5644 https://tw.movies.yahoo.com/movieinfo_main.html/id=5644 https://tw.movies.yahoo.com/movieinfo_main.html/id=5644\n",
    "○ 需要抓取的資訊如下 :\n",
    "■ 電影名稱 (中英 )\n",
    "■ 上映日期 u 類 型 u 片 長 u 導 演 u 演 員 u 發行公司 u 官方網站 u 劇情介紹\n",
    "■ 將擷取出來的資料存到dataframe ==> movie_df\n",
    "\n",
    "'''\n",
    "import requests\n",
    "from bs4 import BeautifulSoup\n",
    "import pandas as pd\n",
    "#select \"波希米亞狂想曲\" movie form Yahoo奇摩電影\n",
    "html = requests.get('https://movies.yahoo.com.tw/movieinfo_main/%E6%B3%A2%E5%B8%8C%E7%B1%B3%E4%BA%9E%E7%8B%82%E6%83%B3%E6%9B%B2-bohemian-rhapsody-8232')\n",
    "html.encoding = \"utf-8\" \n",
    "sp = BeautifulSoup(html.text, 'html.parser')\n",
    "movie['電影名稱(中)'] = sp.h1.text  \n",
    "movie['電影名稱(英)'] = sp.h3.text\n",
    "movie['上映日期'] = sp.select(\".movie_intro_info_r span\")[0].text\n",
    "for i in sp.select(\".level_name a\"):\n",
    "    movie['類型'] = i.text.strip() \n",
    "movie['類型']\n",
    "movie['片長'] = sp.select(\".movie_intro_info_r span\")[1].text\n",
    "movie['導演'] = sp.select(\".movie_intro_list\")[0].text.strip()\n",
    "movie['演員'] = sp.select(\".movie_intro_list\")[1].text.strip()\n",
    "movie['發行公司'] = sp.select(\".movie_intro_info_r span\")[2].text\n",
    "for i in sp.find_all(\"movie_intro_info_r\"):\n",
    "   movie['官方網站'] = i.get('href') \n",
    "movie['劇情介紹'] = sp.select(\".gray_infobox_inner span\")[0].text.strip()\n",
    "df = pd.DataFrame([movie])\n",
    "movie_df=df.reindex(columns=['電影名稱(中)','電影名稱(英)', '類型', '上映日期', '片長', '發行公司', '導演', '演員','官方網站', '劇情介紹'])\n",
    "movie_df # dataframe of the movie"
   ]
  }
 ],
 "metadata": {
  "kernelspec": {
   "display_name": "Python 3",
   "language": "python",
   "name": "python3"
  },
  "language_info": {
   "codemirror_mode": {
    "name": "ipython",
    "version": 3
   },
   "file_extension": ".py",
   "mimetype": "text/x-python",
   "name": "python",
   "nbconvert_exporter": "python",
   "pygments_lexer": "ipython3",
   "version": "3.7.0"
  }
 },
 "nbformat": 4,
 "nbformat_minor": 2
}
