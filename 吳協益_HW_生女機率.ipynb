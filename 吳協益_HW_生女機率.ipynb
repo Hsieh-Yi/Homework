{
 "cells": [
  {
   "cell_type": "code",
   "execution_count": 2,
   "metadata": {},
   "outputs": [
    {
     "name": "stdout",
     "output_type": "stream",
     "text": [
      "0.867349\n",
      "1: (60)男(70)男(21)女+\n",
      "2: (80)男(56)男(9)女+\n",
      "3: (34)女+\n",
      "4: (45)女+\n",
      "5: (46)女+\n",
      "6: (73)男(28)女+\n",
      "7: (68)男(84)男(71)男\n",
      "8: (82)男(77)男(82)男\n",
      "9: (28)女+\n",
      "10: (93)男(49)男(38)女+\n",
      "0.8\n",
      "0.8717\n"
     ]
    }
   ],
   "source": [
    "import random as R\n",
    "class Girl():\n",
    "    p=0.0    \n",
    "    n=1\n",
    "    show_id = False\n",
    "    \n",
    "    def __init__(self, p):\n",
    "        self.p = p\n",
    "\n",
    "    def born(self, n, show_id ): \n",
    "        girl_count =0\n",
    "        for i in range(1,n+1):\n",
    "            if (show_id):             \n",
    "                cat = (str(i)+\": \")\n",
    "            child_count = 0\n",
    "            while(True): \n",
    "                rn = R.randint(0,99) # random number\n",
    "                if (show_id):                 \n",
    "                    cat+=(\"(\"+ str(rn) + \")\")                \n",
    "                if(rn <= 48):\n",
    "                    is_girl = True \n",
    "                else:\n",
    "                    is_girl = False\n",
    "                    child_count = child_count + 1                 \n",
    "                if (is_girl):\n",
    "                    girl_count = girl_count + 1\n",
    "                    if (show_id): \n",
    "                        cat+=\"女+\"\n",
    "                    break\n",
    "                elif (child_count == 3):\n",
    "                    if (show_id): \n",
    "                        cat+=\"男\"\n",
    "                    break             \n",
    "                else:\n",
    "                    if (show_id):                      \n",
    "                        cat+=\"男\"                \n",
    "            if (show_id): \n",
    "                print(cat)                \n",
    "        p = girl_count / n\n",
    "        print(p)\n",
    "\n",
    "#run:\n",
    "a = 0.49 + 0.51*0.49 + (0.51**2)*0.49\n",
    "girl = Girl(a)\n",
    "print(girl.p)\n",
    "girl.born(10, True)\n",
    "girl.born(10000, False)\n"
   ]
  },
  {
   "cell_type": "code",
   "execution_count": 3,
   "metadata": {},
   "outputs": [
    {
     "name": "stdout",
     "output_type": "stream",
     "text": [
      "1: (69)男(54)男(37)女+\n",
      "2: (21)女+\n",
      "3: (73)男(56)男(61)男\n",
      "4: (37)女+\n",
      "5: (59)男(41)女+\n",
      "6: (68)男(82)男(24)女+\n",
      "7: (2)女+\n",
      "8: (45)女+\n",
      "9: (82)男(6)女+\n",
      "10: (38)女+\n",
      "0.9\n"
     ]
    }
   ],
   "source": [
    "import random as R\n",
    "def girl_born(n, show_id = False):\n",
    "    girl_count = 0   \n",
    "    for i in range(1,n+1):\n",
    "        if (show_id):             \n",
    "            cat = (str(i)+\": \")\n",
    "        child_count = 0\n",
    "        while(True): \n",
    "            rn = R.randint(0,99) # random number\n",
    "            if (show_id):                 \n",
    "                cat += (\"(\"+ str(rn) + \")\")                \n",
    "            if(rn <= 48):\n",
    "                is_girl = True \n",
    "            else:\n",
    "                is_girl = False\n",
    "                child_count = child_count + 1                 \n",
    "            if (is_girl):\n",
    "                girl_count = girl_count + 1\n",
    "                if (show_id): \n",
    "                    cat += \"女+\"\n",
    "                break\n",
    "            elif (child_count == 3):\n",
    "                if (show_id): \n",
    "                    cat += \"男\"\n",
    "                break             \n",
    "            else:\n",
    "                if (show_id):                      \n",
    "                    cat += \"男\"                \n",
    "        if (show_id): \n",
    "            print(cat)                \n",
    "    p = girl_count / n\n",
    "    print(p)\n",
    "    \n",
    "#run:\n",
    "girl_born(n=10, show_id = True)"
   ]
  },
  {
   "cell_type": "code",
   "execution_count": null,
   "metadata": {},
   "outputs": [],
   "source": []
  },
  {
   "cell_type": "code",
   "execution_count": null,
   "metadata": {},
   "outputs": [],
   "source": []
  }
 ],
 "metadata": {
  "kernelspec": {
   "display_name": "Python 3",
   "language": "python",
   "name": "python3"
  },
  "language_info": {
   "codemirror_mode": {
    "name": "ipython",
    "version": 3
   },
   "file_extension": ".py",
   "mimetype": "text/x-python",
   "name": "python",
   "nbconvert_exporter": "python",
   "pygments_lexer": "ipython3",
   "version": "3.7.0"
  }
 },
 "nbformat": 4,
 "nbformat_minor": 2
}
